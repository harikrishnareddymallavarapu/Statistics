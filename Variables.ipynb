{
  "nbformat": 4,
  "nbformat_minor": 0,
  "metadata": {
    "colab": {
      "name": "Variables.ipynb",
      "provenance": [],
      "authorship_tag": "ABX9TyOUyKN9iUrxmDXQXJ/aXvbb",
      "include_colab_link": true
    },
    "kernelspec": {
      "name": "python3",
      "display_name": "Python 3"
    }
  },
  "cells": [
    {
      "cell_type": "markdown",
      "metadata": {
        "id": "view-in-github",
        "colab_type": "text"
      },
      "source": [
        "<a href=\"https://colab.research.google.com/github/harikrishnareddymallavarapu/Statistics/blob/master/Variables.ipynb\" target=\"_parent\"><img src=\"https://colab.research.google.com/assets/colab-badge.svg\" alt=\"Open In Colab\"/></a>"
      ]
    },
    {
      "cell_type": "code",
      "metadata": {
        "id": "zsaXNOirCuCE",
        "colab_type": "code",
        "colab": {}
      },
      "source": [
        ""
      ],
      "execution_count": null,
      "outputs": []
    },
    {
      "cell_type": "markdown",
      "metadata": {
        "id": "gbA9t2KRCxT3",
        "colab_type": "text"
      },
      "source": [
        "Variables can be classified into one of two types: categorical or quantitative.\n",
        "\n",
        "**Categorical variables** take category or label values and place an individual into one of several groups. Each observation can be placed in only one category, and the categories are mutually exclusive.\n",
        "\n",
        "**Quantitative variables** take numerical values and represent some kind of measurement.\n",
        "\n",
        "*Categorical variables are sometimes called qualitative variables*"
      ]
    },
    {
      "cell_type": "markdown",
      "metadata": {
        "id": "v6GQ8GSzDKRt",
        "colab_type": "text"
      },
      "source": [
        "Exercise\n",
        "\n",
        "1. ZipCode\n",
        "2. Age\n",
        "3. Weight\n",
        "4. Gender (values = 0,1)\n",
        "5. Family_Size (values = 1,2,4)"
      ]
    },
    {
      "cell_type": "markdown",
      "metadata": {
        "id": "3Pyd3ZkwEGQN",
        "colab_type": "text"
      },
      "source": [
        "**Scales of Measurement / Types of Variables**\n",
        "\n",
        "In the previous section, a simple distinction was made between quantitative and categorical variables. However, there is a more precise method of categorizing variables: it is called **scale of measurement**. The four different scales of measurement, from least to most precise, are\n",
        "\n",
        "1. Nominal\n",
        "\n",
        "2. Ordinal\n",
        "\n",
        "3. Interval\n",
        "\n",
        "4. Ratio"
      ]
    },
    {
      "cell_type": "markdown",
      "metadata": {
        "id": "auI0wKoQEelF",
        "colab_type": "text"
      },
      "source": [
        "----**Nominal**\n",
        "\n",
        "The nominal scale of measurement is a qualitative measure that uses discrete categories to describe a characteristic of the research participants. For each participant, the researcher determines the presence, absence, and type of the attribute\n",
        "\n",
        "We code them with numbers for use in statistical analyses. These categories cannot be ordered or ranked in any way.\n"
      ]
    },
    {
      "cell_type": "markdown",
      "metadata": {
        "id": "U0vXomeVE1iI",
        "colab_type": "text"
      },
      "source": [
        "----**Ordinal Scale of Measurement**\n",
        "\n",
        "An ordinal scale of measurement rank-orders participants on some scale or attribute, but the **difference between numbers does not convey fixed or equal differences**.\n",
        "\n",
        "  ***Thus, with ordinal data, we know that a one-unit increase in an ordinal scales represents “more,” but we don’t know how much more.***\n",
        "\n",
        "  We know that a person who is ranked as 5 is more active than a person who is ranked as 4, but not how much more active."
      ]
    },
    {
      "cell_type": "markdown",
      "metadata": {
        "id": "0xnfFiUnFXGz",
        "colab_type": "text"
      },
      "source": [
        "----**Interval Scale of Measurement**\n",
        "\n",
        "The interval scale of measurement takes numerical form, and the distance between pairs of consecutive numbers is assumed to be equal. However, **interval variables do not have a meaningful zero point**; thus, a zero does not mean the absence of the attribute, but rather it is a particular (but arbitrary) point on the scale\n"
      ]
    },
    {
      "cell_type": "markdown",
      "metadata": {
        "id": "HWjvsihEGCk6",
        "colab_type": "text"
      },
      "source": [
        "----**Ratio Scale of Measurement**\n",
        "\n",
        "The ratio scale of measurement is similar to the interval scale. As with the interval scale, a number is assigned to a subject that represents the amount of the attribute that the subject has and the difference between consecutive numbers is assumed to be equal. \n",
        "\n",
        "***The main difference between interval and ratio measurements has to do with how we interpret a value of zero. For ratio measures, the zero is meaningful and tell us that the attribute is not present in the participant.*** \n",
        "\n",
        "Examples of ratio measures include a participant’s number of children, number of AP courses taken, or cumulative college credits: for each of these variables, a score of zero represents that the participant has none of the attribute."
      ]
    },
    {
      "cell_type": "markdown",
      "metadata": {
        "id": "SnUfF9LKGoR2",
        "colab_type": "text"
      },
      "source": [
        "Exercise:\n",
        "\n",
        "- Temperature\n",
        "- IQ Scores\n",
        "- Aadhar Numbers\n",
        "- Clothing Sizes\n",
        "- Serial Numbers\n",
        "- Political Parties\n",
        "- Anxiety Levels\n",
        "- PinCodes\n",
        "- Mobile Numbers"
      ]
    },
    {
      "cell_type": "markdown",
      "metadata": {
        "id": "MimIzllRHAPT",
        "colab_type": "text"
      },
      "source": [
        ""
      ]
    }
  ]
}